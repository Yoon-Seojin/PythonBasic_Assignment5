{
  "nbformat": 4,
  "nbformat_minor": 0,
  "metadata": {
    "colab": {
      "name": "파이썬기초_윤서진_과제5.ipynb",
      "provenance": [],
      "collapsed_sections": []
    },
    "kernelspec": {
      "name": "python3",
      "display_name": "Python 3"
    }
  },
  "cells": [
    {
      "cell_type": "code",
      "metadata": {
        "id": "REBPhFGO9Lad",
        "colab_type": "code",
        "colab": {
          "base_uri": "https://localhost:8080/",
          "height": 745
        },
        "outputId": "b285e38f-59ec-4269-8750-36e4a0364e47"
      },
      "source": [
        "#problem1\n",
        "import matplotlib.pyplot as plt\n",
        "%matplotlib inline \n",
        "\n",
        "class Rectangle(object):\n",
        "\n",
        "  def __init__(self,width,height,color):\n",
        "    self.width = width\n",
        "    self.height = height\n",
        "    self.color = color \n",
        "\n",
        "  def add_height(self,h):\n",
        "    self.height += h\n",
        "    return(self.height)\n",
        "\n",
        "  def add_width(self,w):\n",
        "    self.width += w\n",
        "    return(self.width)\n",
        "\n",
        "  def add_color(self,c):\n",
        "    self.color = c\n",
        "    return(self.color)\n",
        "\n",
        "  def size(self):\n",
        "    return(self.height*self.width)\n",
        "  \n",
        "  def drawRectangle(self):\n",
        "    plt.gca().add_patch(plt.Rectangle((0,0),self.width,self.height,fc = self.color))\n",
        "    plt.axis('scaled')\n",
        "    plt.show()\n",
        "  \n",
        "FBRectangle = Rectangle(10,1,'blue')\n",
        "FBRectangle.drawRectangle()\n",
        "\n",
        "FBRectangle.add_height(3)\n",
        "FBRectangle.drawRectangle()\n",
        "\n",
        "FBRectangle.add_width(-4)\n",
        "FBRectangle.drawRectangle()\n",
        "\n",
        "FBRectangle.add_color('red')\n",
        "FBRectangle.drawRectangle()"
      ],
      "execution_count": 129,
      "outputs": [
        {
          "output_type": "display_data",
          "data": {
            "image/png": "[encoded data removed]",
            "text/plain": [
              "<Figure size 432x288 with 1 Axes>"
            ]
          },
          "metadata": {
            "tags": [],
            "needs_background": "light"
          }
        },
        {
          "output_type": "display_data",
          "data": {
            "image/png": "[encoded data removed]",
            "text/plain": [
              "<Figure size 432x288 with 1 Axes>"
            ]
          },
          "metadata": {
            "tags": [],
            "needs_background": "light"
          }
        },
        {
          "output_type": "display_data",
          "data": {
            "image/png": "[encoded data removed]",
            "text/plain": [
              "<Figure size 432x288 with 1 Axes>"
            ]
          },
          "metadata": {
            "tags": [],
            "needs_background": "light"
          }
        },
        {
          "output_type": "display_data",
          "data": {
            "image/png": "[encoded data removed]",
            "text/plain": [
              "<Figure size 432x288 with 1 Axes>"
            ]
          },
          "metadata": {
            "tags": [],
            "needs_background": "light"
          }
        }
      ]
    },
    {
      "cell_type": "code",
      "metadata": {
        "id": "8gKJDEjOFr8U",
        "colab_type": "code",
        "colab": {
          "base_uri": "https://localhost:8080/",
          "height": 35
        },
        "outputId": "b286192f-a010-48d9-81ab-41b13ca644f4"
      },
      "source": [
        "from google.colab import drive\n",
        "drive.mount('/content/gdrive')"
      ],
      "execution_count": 130,
      "outputs": [
        {
          "output_type": "stream",
          "text": [
            "Drive already mounted at /content/gdrive; to attempt to forcibly remount, call drive.mount(\"/content/gdrive\", force_remount=True).\n"
          ],
          "name": "stdout"
        }
      ]
    },
    {
      "cell_type": "code",
      "metadata": {
        "id": "pW9R_xSUJGz1",
        "colab_type": "code",
        "colab": {
          "base_uri": "https://localhost:8080/",
          "height": 1000
        },
        "outputId": "4588547f-d5d0-4cc7-8f59-9a67071abc1b"
      },
      "source": [
        "#problem2\n",
        "import math\n",
        "\n",
        "class Circle(object): \n",
        "\n",
        "  def __init__(self,radius,color): \n",
        "    self.radius = radius\n",
        "    self.color = color \n",
        "\n",
        "  def size(self):\n",
        "    return math.pi*self.radius**2\n",
        "  \n",
        "  def drawCircle(self): \n",
        "    plt.gca().add_patch(plt.Circle((0,0),self.radius,fc = self.color))\n",
        "    plt.axis('scaled') \n",
        "    plt.show() \n",
        "\n",
        "circle_set = \"/content/gdrive/My Drive/circle.txt\"\n",
        "\n",
        "with open(circle_set) as f1:\n",
        "  r1 = int(f1.read(1))\n",
        "  f1.read(2)\n",
        "  color1 = f1.read(4)\n",
        "  f1.read(2)\n",
        "  circle1 = Circle(r1,color1)\n",
        "  r2 = int(f1.read(1))\n",
        "  f1.read(2)\n",
        "  color2 = f1.read(4)\n",
        "  f1.read(2)\n",
        "  circle2 = Circle(r2,color2)\n",
        "  r3 = int(f1.read(1))\n",
        "  f1.read(2)\n",
        "  color3 = f1.read(3)\n",
        "  f1.read(2)\n",
        "  circle3 = Circle(r3,color3)\n",
        "  r4 = int(f1.read(1))\n",
        "  f1.read(2)\n",
        "  color4 = f1.read(4)\n",
        "  f1.read(2)\n",
        "  circle4 = Circle(r4,color4)\n",
        "  r5 = int(f1.read(1))\n",
        "  f1.read(2)\n",
        "  color5 = f1.read(5)\n",
        "  f1.read(2)\n",
        "  circle5 = Circle(r5,color5) #ㅠㅡㅠ maybe not a best solution\n",
        "\n",
        "\n",
        "circle1.drawCircle()\n",
        "circle2.drawCircle()\n",
        "circle3.drawCircle()\n",
        "circle4.drawCircle()\n",
        "circle5.drawCircle()"
      ],
      "execution_count": 131,
      "outputs": [
        {
          "output_type": "display_data",
          "data": {
            "image/png": "[encoded data removed]",
            "text/plain": [
              "<Figure size 432x288 with 1 Axes>"
            ]
          },
          "metadata": {
            "tags": [],
            "needs_background": "light"
          }
        },
        {
          "output_type": "display_data",
          "data": {
            "image/png": "[encoded data removed]",
            "text/plain": [
              "<Figure size 432x288 with 1 Axes>"
            ]
          },
          "metadata": {
            "tags": [],
            "needs_background": "light"
          }
        },
        {
          "output_type": "display_data",
          "data": {
            "image/png": "[encoded data removed]",
            "text/plain": [
              "<Figure size 432x288 with 1 Axes>"
            ]
          },
          "metadata": {
            "tags": [],
            "needs_background": "light"
          }
        },
        {
          "output_type": "display_data",
          "data": {
            "image/png": "[encoded data removed]",
            "text/plain": [
              "<Figure size 432x288 with 1 Axes>"
            ]
          },
          "metadata": {
            "tags": [],
            "needs_background": "light"
          }
        },
        {
          "output_type": "display_data",
          "data": {
            "image/png": "[encoded data removed]",
            "text/plain": [
              "<Figure size 432x288 with 1 Axes>"
            ]
          },
          "metadata": {
            "tags": [],
            "needs_background": "light"
          }
        }
      ]
    },
    {
      "cell_type": "code",
      "metadata": {
        "id": "D0mc4_nYMT0Q",
        "colab_type": "code",
        "colab": {
          "base_uri": "https://localhost:8080/",
          "height": 876
        },
        "outputId": "bc8ed4f5-dc55-4c7d-ccdb-ac77735c11c1"
      },
      "source": [
        "rectangle_set = \"/content/gdrive/My Drive/rectangle.txt\"\n",
        "\n",
        "with open(rectangle_set) as f1:\n",
        "  w1 = int(f1.read(1))\n",
        "  f1.read(1)\n",
        "  h1 = int(f1.read(1))\n",
        "  f1.read(2)\n",
        "  color1 = f1.read(3)\n",
        "  f1.read(2)\n",
        "  rectangle1 = Rectangle(w1,h1,color1)\n",
        "  w2 = int(f1.read(1))\n",
        "  f1.read(1)\n",
        "  h2 = int(f1.read(1))\n",
        "  f1.read(2)\n",
        "  color2 = f1.read(4)\n",
        "  f1.read(2)\n",
        "  rectangle2 = Rectangle(w2,h2,color2)\n",
        "  w3 = int(f1.read(1))\n",
        "  f1.read(1)\n",
        "  h3 = int(f1.read(1))\n",
        "  f1.read(2)\n",
        "  color3 = f1.read(5)\n",
        "  f1.read(2)\n",
        "  rectangle3 = Rectangle(w3,h3,color3)\n",
        "  w4 = int(f1.read(1))\n",
        "  f1.read(1)\n",
        "  h4 = int(f1.read(1))\n",
        "  f1.read(2)\n",
        "  color4 = f1.read(3)\n",
        "  f1.read(2)\n",
        "  rectangle4 = Rectangle(w4,h4,color4)\n",
        "\n",
        "rectangle1.drawRectangle()\n",
        "rectangle2.drawRectangle()\n",
        "rectangle3.drawRectangle()\n",
        "rectangle4.drawRectangle()"
      ],
      "execution_count": 132,
      "outputs": [
        {
          "output_type": "display_data",
          "data": {
            "image/png": "[encoded data removed]",
            "text/plain": [
              "<Figure size 432x288 with 1 Axes>"
            ]
          },
          "metadata": {
            "tags": [],
            "needs_background": "light"
          }
        },
        {
          "output_type": "display_data",
          "data": {
            "image/png": "[encoded data removed]",
            "text/plain": [
              "<Figure size 432x288 with 1 Axes>"
            ]
          },
          "metadata": {
            "tags": [],
            "needs_background": "light"
          }
        },
        {
          "output_type": "display_data",
          "data": {
            "image/png": "[encoded data removed]",
            "text/plain": [
              "<Figure size 432x288 with 1 Axes>"
            ]
          },
          "metadata": {
            "tags": [],
            "needs_background": "light"
          }
        },
        {
          "output_type": "display_data",
          "data": {
            "image/png": "[encoded data removed]",
            "text/plain": [
              "<Figure size 432x288 with 1 Axes>"
            ]
          },
          "metadata": {
            "tags": [],
            "needs_background": "light"
          }
        }
      ]
    },
    {
      "cell_type": "code",
      "metadata": {
        "id": "kZWd_M0xYwB5",
        "colab_type": "code",
        "colab": {
          "base_uri": "https://localhost:8080/",
          "height": 175
        },
        "outputId": "ea4fb5e0-a0e4-4cf9-80fb-42b43440d858"
      },
      "source": [
        "#problem3\n",
        "print(circle1.size())\n",
        "print(circle2.size())\n",
        "print(circle3.size())\n",
        "print(circle4.size())\n",
        "print(circle5.size())\n",
        "print(rectangle1.size())\n",
        "print(rectangle2.size())\n",
        "print(rectangle3.size())\n",
        "print(rectangle4.size())"
      ],
      "execution_count": 133,
      "outputs": [
        {
          "output_type": "stream",
          "text": [
            "28.274333882308138\n",
            "78.53981633974483\n",
            "50.26548245743669\n",
            "113.09733552923255\n",
            "12.566370614359172\n",
            "6\n",
            "4\n",
            "2\n",
            "9\n"
          ],
          "name": "stdout"
        }
      ]
    },
    {
      "cell_type": "code",
      "metadata": {
        "id": "6U9L0uJIfbXi",
        "colab_type": "code",
        "colab": {
          "base_uri": "https://localhost:8080/",
          "height": 222
        },
        "outputId": "062e66d6-b921-49bc-b486-9277d696508c"
      },
      "source": [
        "with open('/content/gdrive/My Drive/size.txt', 'w') as w1:\n",
        "  w1.write(str(circle1.size()))#???\n",
        "with open('/content/gdrive/My Drive/size.txt', 'r') as w1:\n",
        "  print(w1.read())"
      ],
      "execution_count": 137,
      "outputs": [
        {
          "output_type": "error",
          "ename": "TypeError",
          "evalue": "ignored",
          "traceback": [
            "\u001b[0;31m---------------------------------------------------------------------------\u001b[0m",
            "\u001b[0;31mTypeError\u001b[0m                                 Traceback (most recent call last)",
            "\u001b[0;32m<ipython-input-137-8c3556261367>\u001b[0m in \u001b[0;36m<module>\u001b[0;34m()\u001b[0m\n\u001b[1;32m      1\u001b[0m \u001b[0;32mwith\u001b[0m \u001b[0mopen\u001b[0m\u001b[0;34m(\u001b[0m\u001b[0;34m'/content/gdrive/My Drive/size.txt'\u001b[0m\u001b[0;34m,\u001b[0m \u001b[0;34m'w'\u001b[0m\u001b[0;34m)\u001b[0m \u001b[0;32mas\u001b[0m \u001b[0mw1\u001b[0m\u001b[0;34m:\u001b[0m\u001b[0;34m\u001b[0m\u001b[0;34m\u001b[0m\u001b[0m\n\u001b[0;32m----> 2\u001b[0;31m   \u001b[0mw1\u001b[0m\u001b[0;34m.\u001b[0m\u001b[0mwrite\u001b[0m\u001b[0;34m(\u001b[0m\u001b[0mstr\u001b[0m\u001b[0;34m(\u001b[0m\u001b[0mcircle1\u001b[0m\u001b[0;34m.\u001b[0m\u001b[0msize\u001b[0m\u001b[0;34m(\u001b[0m\u001b[0;34m)\u001b[0m\u001b[0;34m)\u001b[0m\u001b[0;34m)\u001b[0m\u001b[0;34m\u001b[0m\u001b[0;34m\u001b[0m\u001b[0m\n\u001b[0m\u001b[1;32m      3\u001b[0m \u001b[0;32mwith\u001b[0m \u001b[0mopen\u001b[0m\u001b[0;34m(\u001b[0m\u001b[0;34m'/content/gdrive/My Drive/size.txt'\u001b[0m\u001b[0;34m,\u001b[0m \u001b[0;34m'r'\u001b[0m\u001b[0;34m)\u001b[0m \u001b[0;32mas\u001b[0m \u001b[0mw1\u001b[0m\u001b[0;34m:\u001b[0m\u001b[0;34m\u001b[0m\u001b[0;34m\u001b[0m\u001b[0m\n\u001b[1;32m      4\u001b[0m   \u001b[0mprint\u001b[0m\u001b[0;34m(\u001b[0m\u001b[0mw1\u001b[0m\u001b[0;34m.\u001b[0m\u001b[0mread\u001b[0m\u001b[0;34m(\u001b[0m\u001b[0;34m)\u001b[0m\u001b[0;34m)\u001b[0m\u001b[0;34m\u001b[0m\u001b[0;34m\u001b[0m\u001b[0m\n",
            "\u001b[0;31mTypeError\u001b[0m: 'str' object is not callable"
          ]
        }
      ]
    },
    {
      "cell_type": "code",
      "metadata": {
        "id": "tQNiAmmujBJi",
        "colab_type": "code",
        "colab": {
          "base_uri": "https://localhost:8080/",
          "height": 170
        },
        "outputId": "eceb207e-ae01-440c-9291-7d7a15e17cad"
      },
      "source": [
        "str(10.2)"
      ],
      "execution_count": 138,
      "outputs": [
        {
          "output_type": "error",
          "ename": "TypeError",
          "evalue": "ignored",
          "traceback": [
            "\u001b[0;31m---------------------------------------------------------------------------\u001b[0m",
            "\u001b[0;31mTypeError\u001b[0m                                 Traceback (most recent call last)",
            "\u001b[0;32m<ipython-input-138-94f32403b993>\u001b[0m in \u001b[0;36m<module>\u001b[0;34m()\u001b[0m\n\u001b[0;32m----> 1\u001b[0;31m \u001b[0mstr\u001b[0m\u001b[0;34m(\u001b[0m\u001b[0;36m10.2\u001b[0m\u001b[0;34m)\u001b[0m\u001b[0;34m\u001b[0m\u001b[0;34m\u001b[0m\u001b[0m\n\u001b[0m",
            "\u001b[0;31mTypeError\u001b[0m: 'str' object is not callable"
          ]
        }
      ]
    },
    {
      "cell_type": "code",
      "metadata": {
        "id": "vGwVn_cTkhhb",
        "colab_type": "code",
        "colab": {}
      },
      "source": [
        ""
      ],
      "execution_count": 0,
      "outputs": []
    }
  ]
}